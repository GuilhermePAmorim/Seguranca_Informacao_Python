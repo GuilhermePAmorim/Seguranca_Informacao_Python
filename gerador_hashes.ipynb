{
  "nbformat": 4,
  "nbformat_minor": 0,
  "metadata": {
    "colab": {
      "name": "gerador_hashes.ipynb",
      "provenance": [],
      "collapsed_sections": [],
      "authorship_tag": "ABX9TyPZLYtpZWh8SRdrT6vp7c7g",
      "include_colab_link": true
    },
    "kernelspec": {
      "name": "python3",
      "display_name": "Python 3"
    },
    "language_info": {
      "name": "python"
    }
  },
  "cells": [
    {
      "cell_type": "markdown",
      "metadata": {
        "id": "view-in-github",
        "colab_type": "text"
      },
      "source": [
        "<a href=\"https://colab.research.google.com/github/GuilhermePAmorim/Seguranca_Informacao_Python/blob/main/gerador_hashes.ipynb\" target=\"_parent\"><img src=\"https://colab.research.google.com/assets/colab-badge.svg\" alt=\"Open In Colab\"/></a>"
      ]
    },
    {
      "cell_type": "markdown",
      "source": [
        "#Desenvolvendo um gerador de Hashes"
      ],
      "metadata": {
        "id": "yJoiNuBZ8VaM"
      }
    },
    {
      "cell_type": "code",
      "execution_count": null,
      "metadata": {
        "id": "6FMfjMtj8Tjr"
      },
      "outputs": [],
      "source": [
        "import hashlib\n",
        "\n",
        "texto = input('Digite o texto a ser gerado a HASH: ')\n",
        "\n",
        "hash = {'1': 'MD5', '2': 'SHA1', '3': 'SHA256', '4': 'SHA512'}\n",
        "\n",
        "menu = input(''' ### MENU - ESCOLHA O TIPO DE HASHE ###\n",
        "[1] - MD5\n",
        "[2] - SHA1\n",
        "[3] - SHA256\n",
        "[4] - SHA512\n",
        "Digite a opção desejada: ''')\n",
        "\n",
        "while menu not in '1234':\n",
        "  print('\\n--- OPCAO INVALIDA, TENTE NOVAMENTE ---\\n')\n",
        "  menu = input(''' ### MENU - ESCOLHA O TIPO DE HASHE ###\n",
        "[1] - MD5\n",
        "[2] - SHA1\n",
        "[3] - SHA256\n",
        "[4] - SHA512\n",
        "Digite a opção desejada: ''')\n",
        "\n",
        "print('=-=' * 20)\n",
        "\n",
        "print(f'O hash {hash[menu]} do texto é: ', end='')\n",
        "\n",
        "if menu == 1:\n",
        "  resultado = hashlib.md5(texto.encode('utf-8'))\n",
        "  print(resultado.hexdigest())\n",
        "\n",
        "elif menu == 2:\n",
        "  resultado = hashlib.sha1(texto.encode('utf-8'))\n",
        "  print(resultado.hexdigest())\n",
        "\n",
        "elif menu == 3:\n",
        "  resultado = hashlib.sha256(texto.encode('utf-8'))\n",
        "  print(resultado.hexdigest())\n",
        "\n",
        "else:\n",
        "  resultado = hashlib.sha512(texto.encode('utf-8'))\n",
        "  print(resultado.hexdigest())"
      ]
    }
  ]
}