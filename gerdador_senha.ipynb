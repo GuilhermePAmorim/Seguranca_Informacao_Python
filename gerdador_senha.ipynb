{
  "nbformat": 4,
  "nbformat_minor": 0,
  "metadata": {
    "colab": {
      "name": "gerdador_senha.ipynb",
      "provenance": [],
      "collapsed_sections": [],
      "authorship_tag": "ABX9TyMP161fQ6rJa0yYe6p9fNVc",
      "include_colab_link": true
    },
    "kernelspec": {
      "name": "python3",
      "display_name": "Python 3"
    },
    "language_info": {
      "name": "python"
    }
  },
  "cells": [
    {
      "cell_type": "markdown",
      "metadata": {
        "id": "view-in-github",
        "colab_type": "text"
      },
      "source": [
        "<a href=\"https://colab.research.google.com/github/GuilhermePAmorim/Seguranca_Informacao_Python/blob/main/gerdador_senha.ipynb\" target=\"_parent\"><img src=\"https://colab.research.google.com/assets/colab-badge.svg\" alt=\"Open In Colab\"/></a>"
      ]
    },
    {
      "cell_type": "markdown",
      "source": [
        "#Desenvolvendo um Gerador de Senhas"
      ],
      "metadata": {
        "id": "qO5sYNgG5OKZ"
      }
    },
    {
      "cell_type": "code",
      "execution_count": null,
      "metadata": {
        "id": "ZLoWnSdq4pIH"
      },
      "outputs": [],
      "source": [
        "import random\n",
        "import string\n",
        "\n",
        "tamanho = int(input('Digite o tamanho da senha a ser gerada: '))\n",
        "\n",
        "chars = string.ascii_letters + string.digits + '!@#$$%&*()_+-;:][{}~^´`=ç\\/'\n",
        "\n",
        "rnd = random.SystemRandom() #os.urandom\n",
        "print('\\nSENHA GERADA: ', end='')\n",
        "print(''.join(rnd.choice(chars) for i in range(tamanho)))\n"
      ]
    }
  ]
}